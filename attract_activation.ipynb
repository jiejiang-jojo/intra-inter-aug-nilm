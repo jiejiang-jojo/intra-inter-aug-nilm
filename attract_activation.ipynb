{
 "cells": [
  {
   "cell_type": "code",
   "execution_count": 1,
   "metadata": {},
   "outputs": [],
   "source": [
    "import numpy as np\n",
    "import h5py\n",
    "import time\n",
    "import logging\n",
    "import matplotlib.pyplot as plt\n",
    "import pandas as pd\n",
    "import random\n",
    "import os"
   ]
  },
  {
   "cell_type": "code",
   "execution_count": 2,
   "metadata": {},
   "outputs": [],
   "source": [
    "    def read_data( hf, target_device, house_list):\n",
    "        \"\"\"Load data of houses\n",
    "        \"\"\"\n",
    "\n",
    "        if len(house_list) == 0:\n",
    "            return [], []\n",
    "\n",
    "        else:\n",
    "            aggregates = []\n",
    "            targets = []\n",
    "            timestamps=[]\n",
    "        \n",
    "            for house in house_list:\n",
    "\n",
    "                aggregate = hf[house]['aggregate'][:]\n",
    "                target = hf[house][target_device][:]\n",
    "                timestamp=hf[house]['unix'][:]\n",
    "                \n",
    "                aggregates.append(aggregate)\n",
    "                targets.append(target)\n",
    "                timestamps.append(timestamp)\n",
    "            aggregates = np.concatenate(aggregates, axis=0)\n",
    "            targets = np.concatenate(targets, axis=0)\n",
    "            times=np.concatenate(timestamps,axis=0)\n",
    "            \n",
    "            return aggregates, targets,timestamps"
   ]
  },
  {
   "cell_type": "code",
   "execution_count": 3,
   "metadata": {},
   "outputs": [],
   "source": [
    "def extract(application,house,m_off,m_on,m_threshold,num):\n",
    "    load_time = time.time()\n",
    "    target_device=application\n",
    "    train_house_list=[house]\n",
    "    hf = h5py.File('data-raw.h5', 'r')\n",
    "    (train_x, y,timestamps) = read_data(hf, target_device, train_house_list)\n",
    "  \n",
    "   \n",
    "    index =[i for i in range(0, len(train_y)*10, 10)]\n",
    "    \n",
    "    data = train_y\n",
    "    chunk = pd.Series(data, index=index)\n",
    "    min_off_duration=m_off\n",
    "    min_on_duration=m_on\n",
    "    border=1\n",
    "    on_power_threshold=m_threshold\n",
    "    when_on = chunk >= on_power_threshold\n",
    "\n",
    "\n",
    "    state_changes = when_on.astype(np.int8).diff()\n",
    "    \n",
    "    switch_on_events = np.where(state_changes == 1)[0]\n",
    "    switch_off_events = np.where(state_changes == -1)[0]\n",
    "    \n",
    "    del state_changes\n",
    "\n",
    "    \n",
    "\n",
    "\n",
    "    if switch_off_events[0] < switch_on_events[0]:\n",
    "        switch_off_events = switch_off_events[1:]\n",
    "        \n",
    "           \n",
    "    if switch_on_events[-1] > switch_off_events[-1]:\n",
    "        switch_on_events = switch_on_events[:-1]\n",
    "        \n",
    "    assert len(switch_on_events) == len(switch_off_events)\n",
    "    a=chunk.index[switch_on_events[1:]]\n",
    "    b=chunk.index[switch_off_events[:-1]]\n",
    "    c=[]\n",
    "    d=[]\n",
    "    for i in range(0,len(a)):\n",
    "        c.append(a[i])\n",
    "    off_durations=[]\n",
    "\n",
    "    for j in range(0,len(b)):\n",
    "        d.append(b[j])\n",
    "\n",
    "    if min_off_duration > 0:\n",
    "        off_durations = np.array(c) - np.array(d)\n",
    "        above_threshold_off_durations = np.where(\n",
    "            off_durations >= min_off_duration)[0]\n",
    "        switch_off_events = switch_off_events[\n",
    "                np.concatenate([above_threshold_off_durations,\n",
    "                                [len(switch_off_events)-1]])]\n",
    "        switch_on_events = switch_on_events[\n",
    "                np.concatenate([[0], above_threshold_off_durations+1])]\n",
    "        assert len(switch_on_events) == len(switch_off_events)\n",
    "  \n",
    "    activations = []\n",
    "    n=0\n",
    "    c=0\n",
    "    for on, off in zip(switch_on_events, switch_off_events):\n",
    "        \n",
    "        duration = (chunk.index[ off] - chunk.index[on])\n",
    "        if duration < min_on_duration:\n",
    "            continue\n",
    "        on -= 1 + border\n",
    "        if on < 0:\n",
    "            on = 0\n",
    "        off += border\n",
    "        activation = chunk.iloc[on:off]\n",
    "        if not activation.isnull().values.any() and len(activation)<1070:\n",
    "            file_path = os.path.join('app_activations/'+str(application)+'/lstm_predict_h'+str(num)+'/dw'+str(c)+'_prediction.npy') \n",
    "            dir_path = os.path.dirname(file_path)    \n",
    "            if not os.path.exists(dir_path):  \n",
    "                os.makedirs(dir_path)  \n",
    "            np.save('app_activations/'+str(application)+'/ukdale_predict_h'+str(num)+'/dw'+str(c)+'_prediction.npy', activation)\n",
    "            c+=1\n",
    "          "
   ]
  },
  {
   "cell_type": "code",
   "execution_count": null,
   "metadata": {},
   "outputs": [],
   "source": [
    "#kettle 11\n",
    "ls=[\"house2\",\"house3\",\"house4\",\"house5\",\"house6\",\"house7\",\"house8\",\"house9\",\"house11\",\"house12\",\"house13\",\"house17\",\"house19\",\"house20\",\"house21\"]\n",
    "num=[\"2\",\"3\",\"4\",\"5\",\"6\",\"7\",\"8\",\"9\",\"11\",\"12\",\"13\",\"17\",\"19\",\"20\",\"21\"]\n",
    "for h,l in zip(ls,num):\n",
    "    extract('kettle',h,0,12,2000,l)"
   ]
  },
  {
   "cell_type": "code",
   "execution_count": 4,
   "metadata": {},
   "outputs": [],
   "source": [
    "ls=[\"house2\"]\n",
    "num=[\"2\"]\n",
    "for h,l in zip(ls,num):\n",
    "    extract('kettle',h,0,12,2000,l)"
   ]
  },
  {
   "cell_type": "code",
   "execution_count": 16,
   "metadata": {},
   "outputs": [],
   "source": [
    "#microwave 11\n",
    "ls=[\"house2\",\"house3\",\"house4\",\"house5\",\"house6\",\"house8\",\"house9\",\"house10\",\"house11\",\"house12\",\"house15\",\"house17\",\"house18\",\"house19\",\"house20\"]\n",
    "num=[\"2\",\"3\",\"4\",\"5\",\"6\",\"8\",\"9\",\"10\",\"11\",\"12\",\"15\",\"17\",\"18\",\"19\",\"20\"]\n",
    "for h,l in zip(ls,num):\n",
    "    extract('microwave',h,30,12,200,l)"
   ]
  },
  {
   "cell_type": "code",
   "execution_count": 4,
   "metadata": {},
   "outputs": [],
   "source": [
    "ls=[\"house18\",\"house19\",\"house20\"]\n",
    "num=[\"18\",\"19\",\"20\"]\n",
    "for h,l in zip(ls,num):\n",
    "    extract('microwave',h,30,12,200,l)"
   ]
  },
  {
   "cell_type": "code",
   "execution_count": 42,
   "metadata": {},
   "outputs": [],
   "source": [
    "ls=[\"house18\",\"house19\",\"house20\",\"house21\"]\n",
    "num=[\"18\",\"19\",\"20\",\"21\"]\n",
    "for h,l in zip(ls,num):\n",
    "    extract('washingmachine',h,160,1800,20,l)"
   ]
  },
  {
   "cell_type": "code",
   "execution_count": 44,
   "metadata": {},
   "outputs": [],
   "source": [
    "ls=[\"house16\",\"house18\",\"house20\",\"house21\"]\n",
    "num=[\"16\",\"18\",\"20\",\"21\"]\n",
    "for h,l in zip(ls,num):\n",
    "    extract('dishwasher',h,1800,1800,10,l)"
   ]
  },
  {
   "cell_type": "code",
   "execution_count": 47,
   "metadata": {},
   "outputs": [],
   "source": [
    "app = 'microwave'\n",
    "path ='app_activations/'+app+'/'\n",
    "for i in range(20,30): #853\n",
    "    temp = np.load(path+'bert_predict_h'+str(18)+'/dw'+str(i)+'_prediction.npy')\n",
    "    plt.figure(figsize=(10,2))\n",
    "    plt.plot(temp)"
   ]
  }
 ],
 "metadata": {
  "kernelspec": {
   "display_name": "sci",
   "language": "python",
   "name": "sci"
  }
 },
 "nbformat": 4,
 "nbformat_minor": 2
}
