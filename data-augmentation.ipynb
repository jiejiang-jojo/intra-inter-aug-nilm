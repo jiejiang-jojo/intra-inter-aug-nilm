{
 "cells": [
  {
   "cell_type": "code",
   "execution_count": 1,
   "metadata": {},
   "outputs": [],
   "source": [
    "import numpy as np\n",
    "import pandas as pd\n",
    "import matplotlib.pyplot as plt\n",
    "import h5py\n",
    "import time\n",
    "import os\n",
    "import random"
   ]
  },
  {
   "cell_type": "code",
   "execution_count": 2,
   "metadata": {},
   "outputs": [],
   "source": [
    "    def read_data( hf, target_device, house_list):\n",
    "        \"\"\"Load data of houses\n",
    "        \"\"\"\n",
    "\n",
    "        if len(house_list) == 0:\n",
    "            return [], []\n",
    "\n",
    "        else:\n",
    "            aggregates = []\n",
    "            targets = []\n",
    "            #timestamps=[]\n",
    "        \n",
    "            for house in house_list:\n",
    "\n",
    "                aggregate = hf[house]['aggregate'][:]\n",
    "                target = hf[house][target_device][:]\n",
    "                #timestamp=hf[house]['unix'][:]\n",
    "                \n",
    "                aggregates.append(aggregate)\n",
    "                targets.append(target)\n",
    "                #timestamps.append(timestamp)\n",
    "            aggregates = np.concatenate(aggregates, axis=0)\n",
    "            targets = np.concatenate(targets, axis=0)\n",
    "            #times=np.concatenate(timestamps,axis=0)\n",
    "            \n",
    "            return aggregates, targets"
   ]
  },
  {
   "cell_type": "code",
   "execution_count": 3,
   "metadata": {},
   "outputs": [],
   "source": [
    "def load_activation(path,ls):\n",
    "    step = 8640\n",
    "    dw_activations = []\n",
    "    #path = 'app_activations/dishwasher/'\n",
    "    for house in ls:\n",
    "        folder_path = path+'h'+str(house)+'/'\n",
    "        file_list = os.listdir(folder_path)\n",
    "        for numpy_file in file_list:\n",
    "            file_path = os.path.join(folder_path, numpy_file)\n",
    "            tem_value=np.load(file_path)\n",
    "            if len(tem_value)<8640:\n",
    "                dw_activations.append(np.load(file_path))\n",
    "    return dw_activations"
   ]
  },
  {
   "cell_type": "code",
   "execution_count": 4,
   "metadata": {},
   "outputs": [],
   "source": [
    "def syn_data(application,w_activations,k_activations,m_activations,house):\n",
    "    target_device=application\n",
    "    train_house_list=[house]\n",
    "    hf = h5py.File('experiment_data/data_washingmachine_mixture.h5', 'r')\n",
    "    (aggregation, train_y) = read_data(hf, target_device, train_house_list)\n",
    "    \n",
    "    order=[]\n",
    "    for i in range(0,len(train_y),8640):\n",
    "        order.append(i-1)\n",
    "    order[0]=0\n",
    "    print(len(order))\n",
    "    for i in range (1,len(order)):\n",
    "        wr=random.choice(w_activations)\n",
    "        #dr=random.choice(d_activations)\n",
    "        kr=random.choice(k_activations)\n",
    "        mr=random.choice(m_activations)\n",
    "        \n",
    "        synthetic_index1=random.randint(order[i-1],order[i]-len(wr))\n",
    "        synthetic_index2=random.randint(order[i-1],order[i]-len(kr))\n",
    "        synthetic_index3=random.randint(order[i-1],order[i]-len(mr))\n",
    "        for j in range(0,len(wr)):\n",
    "            aggregation[synthetic_index1+j]=aggregation[synthetic_index1+j]+wr[j]\n",
    "        for j in range(0,len(kr)):\n",
    "            aggregation[synthetic_index2+j]=aggregation[synthetic_index2+j]+kr[j]\n",
    "        for j in range(0,len(mr)):\n",
    "            aggregation[synthetic_index3+j]=aggregation[synthetic_index3+j]+mr[j]\n",
    "    df=pd.DataFrame({application:train_y,'Aggregate':aggregation})\n",
    "    path=\"data/\"+house+\".csv\"\n",
    "    df.to_csv(path, index=False, header=True)\n",
    "\n",
    "    \n"
   ]
  },
  {
   "cell_type": "code",
   "execution_count": 5,
   "metadata": {},
   "outputs": [
    {
     "name": "stdout",
     "output_type": "stream",
     "text": [
      "639\n",
      "618\n",
      "615\n",
      "649\n",
      "578\n",
      "614\n",
      "556\n",
      "569\n",
      "587\n",
      "393\n"
     ]
    }
   ],
   "source": [
    "# lw=[1,2,3,5,6,7,8,9,10,11]\n",
    "# w_activations=load_activation('app_activations/washingmachine/',lw)\n",
    "\n",
    "lm=[2,3,4,5,6,8,9]\n",
    "m_activations=load_activation('app_activations/microwave/',lm)\n",
    "\n",
    "lk=[2,3,4,5,6,7,8]\n",
    "k_activations=load_activation('app_activations/kettle/',lk)\n",
    "\n",
    "ld=[1,2,3,5,6,7,9]  \n",
    "w_activations=load_activation('app_activations/dishwasher/',ld)\n",
    "\n",
    "# for i in [\"house1\",\"house2\",\"house3\",\"house5\",\"house6\",\"house7\",\"house9\"]:\n",
    "#     syn_data(\"dishwasher\",w_activations,k_activations,m_activations,i)\n",
    "\n",
    "# for i in [\"house2\",\"house3\",\"house4\",\"house5\",\"house6\",\"house8\",\"house9\"]:\n",
    "#     syn_data(\"microwave\",w_activations,k_activations,m_activations,i)\n",
    "\n",
    "for i in [\"house1\",\"house2\",\"house3\",\"house5\",\"house6\",\"house7\",\"house8\",\"house9\",\"house10\",\"house11\"]:\n",
    "    syn_data(\"washingmachine\",w_activations,k_activations,m_activations,i)\n",
    "\n",
    "# for i in [\"house2\",\"house3\",\"house4\",\"house5\",\"house6\",\"house7\",\"house8\"]:\n",
    "#     syn_data(\"kettle\",w_activations,k_activations,m_activations,i)"
   ]
  },
  {
   "cell_type": "code",
   "execution_count": 6,
   "metadata": {},
   "outputs": [],
   "source": [
    "def produce_data_vt(application,house):\n",
    "    target_device=application\n",
    "    train_house_list=[house]\n",
    "    hf = h5py.File('data.h5', 'r')\n",
    "    (train_x, train_y) = read_data(hf, target_device, train_house_list)\n",
    "    df=pd.DataFrame({application:train_y,'Aggregate':train_x})\n",
    "    path=\"data/\"+house+\".csv\"\n",
    "    df.to_csv(path, index=False, header=True)\n",
    "    "
   ]
  },
  {
   "cell_type": "code",
   "execution_count": 7,
   "metadata": {},
   "outputs": [],
   "source": [
    "# for i in [\"house10\",\"house11\",\"house13\",\"house15\",\"house16\",\"house18\",\"house20\"]:\n",
    "#     produce_data_vt('dishwasher',i)"
   ]
  },
  {
   "cell_type": "code",
   "execution_count": 8,
   "metadata": {},
   "outputs": [],
   "source": [
    "# for i in [\"house10\",\"house11\",\"house12\",\"house15\",\"house17\",\"house18\",\"house19\",\"house20\"]:\n",
    "#     produce_data_vt('microwave',i)"
   ]
  },
  {
   "cell_type": "code",
   "execution_count": 9,
   "metadata": {},
   "outputs": [],
   "source": [
    "for i in [\"house13\",\"house15\",\"house16\",\"house17\",\"house18\",\"house19\",\"house20\"]:\n",
    "    produce_data_vt('washingmachine',i)"
   ]
  },
  {
   "cell_type": "code",
   "execution_count": 10,
   "metadata": {},
   "outputs": [],
   "source": [
    "# for i in [\"house9\",\"house11\",\"house12\",\"house13\",\"house17\",\"house19\",\"house20\"]:\n",
    "#     produce_data_vt('kettle',i)"
   ]
  }
 ],
 "metadata": {
  "kernelspec": {
   "display_name": "sci",
   "language": "python",
   "name": "sci"
  }
 },
 "nbformat": 4,
 "nbformat_minor": 2
}
